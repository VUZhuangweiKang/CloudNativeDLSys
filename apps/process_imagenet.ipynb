{
 "cells": [
  {
   "attachments": {},
   "cell_type": "markdown",
   "metadata": {},
   "source": [
    "## Preprocess ImageNet"
   ]
  },
  {
   "cell_type": "code",
   "execution_count": 1,
   "metadata": {},
   "outputs": [],
   "source": [
    "import glob\n",
    "import numpy as np\n",
    "import pickle as pkl\n",
    "import torchvision.transforms as transforms\n",
    "import json\n",
    "\n",
    "normalize = transforms.Normalize(mean=[0.485, 0.456, 0.406],\n",
    "                                    std=[0.229, 0.224, 0.225])\n",
    "\n",
    "transform = transforms.Compose([\n",
    "    transforms.RandomResizedCrop(224),\n",
    "    transforms.RandomHorizontalFlip(),\n",
    "    transforms.ToTensor(),\n",
    "    normalize,\n",
    "])"
   ]
  },
  {
   "cell_type": "code",
   "execution_count": 2,
   "metadata": {},
   "outputs": [],
   "source": [
    "import os\n",
    "import glob\n",
    "import concurrent\n",
    "import multiprocessing\n",
    "import pandas as pd\n",
    "from PIL import Image\n",
    "from multiprocessing import Pool, cpu_count\n",
    "import pickle\n",
    "\n",
    "src_dir = \"/home/cc/CNDLSysData/Imagenet-Mini\"\n",
    "\n",
    "def convert_img(chunk, image_paths):\n",
    "    for image_path in image_paths:\n",
    "        with Image.open(image_path) as img:\n",
    "            img = img.convert(\"RGB\")\n",
    "        img = transform(img)\n",
    "        new_img_path = image_path.replace('JPEG', 'npy')\n",
    "        np.save(new_img_path, img)\n",
    "\n",
    "img_paths = glob.glob(f\"{src_dir}/*/samples/*/*.JPEG\")\n",
    "\n",
    "def images(lst, n):\n",
    "    \"\"\"Yield successive n-sized chunks from lst.\"\"\"\n",
    "    for i in range(0, len(lst), n):\n",
    "        yield lst[i:i + n]\n",
    "        \n",
    "with Pool(cpu_count()) as p:\n",
    "    num_files_per_process = len(img_paths) // cpu_count()  # divide files equally among processes\n",
    "    img_files = list(images(img_paths, num_files_per_process))\n",
    "    p.starmap(convert_img, enumerate(img_files))"
   ]
  },
  {
   "attachments": {},
   "cell_type": "markdown",
   "metadata": {},
   "source": [
    "## Upload Data to S3"
   ]
  },
  {
   "cell_type": "code",
   "execution_count": 8,
   "metadata": {},
   "outputs": [
    {
     "name": "stdout",
     "output_type": "stream",
     "text": [
      "Imagenet-Mini-Numpy/val/0.tar.gz\n",
      "Imagenet-Mini-Numpy/train/1.tar.gz\n",
      "Imagenet-Mini-Numpy/train/0.tar.gz\n",
      "Imagenet-Mini-Numpy/train/2.tar.gz\n",
      "Imagenet-Mini-Numpy/train/3.tar.gz\n"
     ]
    }
   ],
   "source": [
    "import boto3\n",
    "import glob\n",
    "import pickle\n",
    "import multiprocessing\n",
    "import concurrent.futures\n",
    "import os\n",
    "\n",
    "\n",
    "session = boto3.Session()\n",
    "s3 = session.client(\"s3\")\n",
    "bucket = 'vuzhuangwei'\n",
    "\n",
    "def preprocess(path):\n",
    "    key = path.replace('/home/cc/CNDLSysData/', '')\n",
    "    print(key)\n",
    "    s3.upload_file(path, bucket, key)\n",
    " \n",
    "def upload_objects(folder):\n",
    "    with concurrent.futures.ThreadPoolExecutor(max_workers=multiprocessing.cpu_count()) as executor:\n",
    "        futures = []\n",
    "        if os.path.isdir(folder):\n",
    "            imgs = glob.glob('{}/*/*'.format(folder))\n",
    "        else:\n",
    "            imgs = [folder]\n",
    "        for path in imgs:\n",
    "            futures.append(executor.submit(preprocess, path))\n",
    "        concurrent.futures.wait(futures)\n",
    "\n",
    "upload_objects(\"/home/cc/CNDLSysData/Imagenet-Mini-Numpy\")"
   ]
  }
 ],
 "metadata": {
  "kernelspec": {
   "display_name": ".venv",
   "language": "python",
   "name": "python3"
  },
  "language_info": {
   "codemirror_mode": {
    "name": "ipython",
    "version": 3
   },
   "file_extension": ".py",
   "mimetype": "text/x-python",
   "name": "python",
   "nbconvert_exporter": "python",
   "pygments_lexer": "ipython3",
   "version": "3.8.10"
  },
  "orig_nbformat": 4
 },
 "nbformat": 4,
 "nbformat_minor": 2
}
