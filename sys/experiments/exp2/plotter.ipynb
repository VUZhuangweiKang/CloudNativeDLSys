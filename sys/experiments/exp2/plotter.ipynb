{
 "cells": [
  {
   "cell_type": "code",
   "execution_count": 10,
   "metadata": {},
   "outputs": [],
   "source": [
    "import matplotlib.pyplot as plt\n",
    "import numpy as np\n",
    "import pandas as pd\n",
    "import json\n",
    "from collections import  defaultdict\n",
    "\n",
    "# clusters = ['earth', 'saturn', 'uranus', 'venus']\n",
    "# schedulers = ['ours', 'ff', 'wf', 'bf', 'csa']\n",
    "\n",
    "clusters = ['earth', 'saturn', 'uranus', 'venus']\n",
    "schedulers = ['ours', 'ff', 'wf', 'bf', 'csa']\n",
    "\n",
    "results = defaultdict(lambda: defaultdict(float))\n",
    "for cluster in clusters:\n",
    "    for sch in schedulers:\n",
    "        with open(f'./experiments/{cluster}/{sch}.json', 'r') as f:\n",
    "            data = json.load(f)\n",
    "\n",
    "        local_rate = []\n",
    "        for job in data:\n",
    "            if len(job['location']) == 0:\n",
    "                print(cluster, sch, job)\n",
    "                continue\n",
    "            chunks = np.array_split(job['chunks'], len(job['location']))\n",
    "            for i, worker in enumerate(job['location']):\n",
    "                worker_chunks = chunks[i]\n",
    "                local = [chunk['Location'] == worker for chunk in worker_chunks]\n",
    "                if len(local) == 0:\n",
    "                    continue\n",
    "                local_rate.append(100 * sum(local) / len(worker_chunks))\n",
    "        \n",
    "        results[cluster][sch] = np.mean(local_rate)"
   ]
  },
  {
   "cell_type": "code",
   "execution_count": 11,
   "metadata": {},
   "outputs": [],
   "source": [
    "results = pd.DataFrame(results).round(2).T\n",
    "results.to_csv(\"result.csv\", index=False)"
   ]
  },
  {
   "cell_type": "code",
   "execution_count": 14,
   "metadata": {},
   "outputs": [
    {
     "data": {
      "text/html": [
       "<div>\n",
       "<style scoped>\n",
       "    .dataframe tbody tr th:only-of-type {\n",
       "        vertical-align: middle;\n",
       "    }\n",
       "\n",
       "    .dataframe tbody tr th {\n",
       "        vertical-align: top;\n",
       "    }\n",
       "\n",
       "    .dataframe thead th {\n",
       "        text-align: right;\n",
       "    }\n",
       "</style>\n",
       "<table border=\"1\" class=\"dataframe\">\n",
       "  <thead>\n",
       "    <tr style=\"text-align: right;\">\n",
       "      <th></th>\n",
       "      <th>ours</th>\n",
       "      <th>ff</th>\n",
       "      <th>wf</th>\n",
       "      <th>bf</th>\n",
       "      <th>csa</th>\n",
       "    </tr>\n",
       "  </thead>\n",
       "  <tbody>\n",
       "    <tr>\n",
       "      <th>earth</th>\n",
       "      <td>92.51</td>\n",
       "      <td>79.89</td>\n",
       "      <td>79.41</td>\n",
       "      <td>79.60</td>\n",
       "      <td>80.01</td>\n",
       "    </tr>\n",
       "    <tr>\n",
       "      <th>saturn</th>\n",
       "      <td>90.31</td>\n",
       "      <td>83.03</td>\n",
       "      <td>82.31</td>\n",
       "      <td>82.77</td>\n",
       "      <td>83.08</td>\n",
       "    </tr>\n",
       "    <tr>\n",
       "      <th>uranus</th>\n",
       "      <td>92.85</td>\n",
       "      <td>84.12</td>\n",
       "      <td>83.87</td>\n",
       "      <td>83.95</td>\n",
       "      <td>84.14</td>\n",
       "    </tr>\n",
       "    <tr>\n",
       "      <th>venus</th>\n",
       "      <td>92.42</td>\n",
       "      <td>80.00</td>\n",
       "      <td>79.35</td>\n",
       "      <td>79.57</td>\n",
       "      <td>80.20</td>\n",
       "    </tr>\n",
       "  </tbody>\n",
       "</table>\n",
       "</div>"
      ],
      "text/plain": [
       "         ours     ff     wf     bf    csa\n",
       "earth   92.51  79.89  79.41  79.60  80.01\n",
       "saturn  90.31  83.03  82.31  82.77  83.08\n",
       "uranus  92.85  84.12  83.87  83.95  84.14\n",
       "venus   92.42  80.00  79.35  79.57  80.20"
      ]
     },
     "execution_count": 14,
     "metadata": {},
     "output_type": "execute_result"
    }
   ],
   "source": [
    "results"
   ]
  },
  {
   "cell_type": "code",
   "execution_count": 16,
   "metadata": {},
   "outputs": [
    {
     "data": {
      "text/plain": [
       "ours    92.0225\n",
       "ff      81.7600\n",
       "wf      81.2350\n",
       "bf      81.4725\n",
       "csa     81.8575\n",
       "dtype: float64"
      ]
     },
     "execution_count": 16,
     "metadata": {},
     "output_type": "execute_result"
    }
   ],
   "source": [
    "results.mean()"
   ]
  },
  {
   "cell_type": "code",
   "execution_count": 15,
   "metadata": {},
   "outputs": [
    {
     "name": "stdout",
     "output_type": "stream",
     "text": [
      "15.796720490674684\n",
      "16.49666288880495\n",
      "16.218592964824136\n",
      "15.62304711911011\n"
     ]
    }
   ],
   "source": [
    "for col in results.columns[1:]:\n",
    "    imp = 100 * (results['ours'] - results[col])/results[col]\n",
    "    print(max(imp))"
   ]
  }
 ],
 "metadata": {
  "kernelspec": {
   "display_name": "base",
   "language": "python",
   "name": "python3"
  },
  "language_info": {
   "codemirror_mode": {
    "name": "ipython",
    "version": 3
   },
   "file_extension": ".py",
   "mimetype": "text/x-python",
   "name": "python",
   "nbconvert_exporter": "python",
   "pygments_lexer": "ipython3",
   "version": "3.9.13"
  },
  "orig_nbformat": 4
 },
 "nbformat": 4,
 "nbformat_minor": 2
}
