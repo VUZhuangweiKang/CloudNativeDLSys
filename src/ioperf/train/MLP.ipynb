{
 "cells": [
  {
   "cell_type": "code",
   "execution_count": 8,
   "metadata": {},
   "outputs": [],
   "source": [
    "import torch\n",
    "import torch.nn as nn\n",
    "import torch.optim as optim\n",
    "import pandas as pd\n",
    "from sklearn.preprocessing import StandardScaler, MinMaxScaler\n",
    "from sklearn.model_selection import train_test_split\n",
    "from pytorchtools import EarlyStopping\n",
    "import matplotlib.pyplot as plt\n",
    "\n",
    "\n",
    "# Define the MLP model\n",
    "class MLP(nn.Module):\n",
    "    def __init__(self):\n",
    "        super(MLP, self).__init__()\n",
    "        self.fc1 = nn.Linear(3, 32)\n",
    "        self.fc2 = nn.Linear(32, 32)\n",
    "        self.fc3 = nn.Linear(32, 1)\n",
    "        self.relu = nn.ReLU()\n",
    "\n",
    "    def forward(self, x):\n",
    "        x = self.relu(self.fc1(x))\n",
    "        x = self.relu(self.fc2(x))\n",
    "        x = self.fc3(x)\n",
    "        return x"
   ]
  },
  {
   "cell_type": "code",
   "execution_count": 9,
   "metadata": {},
   "outputs": [],
   "source": [
    "batch_size = 16\n",
    "num_epochs = 100\n",
    "lr = 0.0001"
   ]
  },
  {
   "cell_type": "code",
   "execution_count": 10,
   "metadata": {},
   "outputs": [],
   "source": [
    "# Generate some random training data\n",
    "data = pd.read_csv('ioperf.csv')\n",
    "X = data[['bandwidth', 'chunkSize', 'iomode']].to_numpy()\n",
    "X = MinMaxScaler().fit_transform(X)\n",
    "y = data['latency'].to_numpy()\n",
    "X_train, X_test, y_train, y_test = train_test_split(X, y, test_size=0.2)\n",
    "X_train, X_val, y_train, y_val = train_test_split(X_train, y_train, test_size=0.2)\n",
    "\n",
    "# Convert the data to PyTorch tensors and create a Dataset\n",
    "train_dataset = torch.utils.data.TensorDataset(torch.tensor(X_train), torch.tensor(y_train))\n",
    "val_dataset = torch.utils.data.TensorDataset(torch.tensor(X_val), torch.tensor(y_val))\n",
    "test_dataset = torch.utils.data.TensorDataset(torch.tensor(X_test), torch.tensor(y_test))\n",
    "\n",
    "# Create DataLoaders\n",
    "train_dataloader = torch.utils.data.DataLoader(train_dataset, batch_size=batch_size, shuffle=True)\n",
    "val_dataloader = torch.utils.data.DataLoader(val_dataset, batch_size=batch_size, shuffle=True)\n",
    "test_dataloader = torch.utils.data.DataLoader(test_dataset, batch_size=batch_size, shuffle=False)"
   ]
  },
  {
   "cell_type": "code",
   "execution_count": 11,
   "metadata": {},
   "outputs": [
    {
     "name": "stderr",
     "output_type": "stream",
     "text": [
      "/usr/local/lib/python3.6/site-packages/torch/nn/modules/loss.py:520: UserWarning: Using a target size (torch.Size([16])) that is different to the input size (torch.Size([16, 1])). This will likely lead to incorrect results due to broadcasting. Please ensure they have the same size.\n",
      "  return F.mse_loss(input, target, reduction=self.reduction)\n",
      "/usr/local/lib/python3.6/site-packages/torch/nn/modules/loss.py:520: UserWarning: Using a target size (torch.Size([9])) that is different to the input size (torch.Size([9, 1])). This will likely lead to incorrect results due to broadcasting. Please ensure they have the same size.\n",
      "  return F.mse_loss(input, target, reduction=self.reduction)\n",
      "/usr/local/lib/python3.6/site-packages/torch/nn/modules/loss.py:520: UserWarning: Using a target size (torch.Size([15])) that is different to the input size (torch.Size([15, 1])). This will likely lead to incorrect results due to broadcasting. Please ensure they have the same size.\n",
      "  return F.mse_loss(input, target, reduction=self.reduction)\n"
     ]
    },
    {
     "name": "stdout",
     "output_type": "stream",
     "text": [
      "Validation loss decreased (inf --> 0.002478).  Saving model ...\n",
      "Validation loss decreased (0.002478 --> 0.000400).  Saving model ...\n",
      "Validation loss decreased (0.000400 --> 0.000052).  Saving model ...\n",
      "Validation loss decreased (0.000052 --> 0.000033).  Saving model ...\n",
      "Validation loss decreased (0.000033 --> 0.000016).  Saving model ...\n",
      "Validation loss decreased (0.000016 --> 0.000001).  Saving model ...\n",
      "Validation loss decreased (0.000001 --> 0.000001).  Saving model ...\n",
      "Validation loss decreased (0.000001 --> 0.000001).  Saving model ...\n",
      "Validation loss decreased (0.000001 --> 0.000000).  Saving model ...\n",
      "Validation loss decreased (0.000000 --> 0.000000).  Saving model ...\n",
      "Validation loss decreased (0.000000 --> 0.000000).  Saving model ...\n",
      "Validation loss decreased (0.000000 --> 0.000000).  Saving model ...\n",
      "Validation loss decreased (0.000000 --> 0.000000).  Saving model ...\n",
      "Validation loss decreased (0.000000 --> 0.000000).  Saving model ...\n",
      "Early stopping\n"
     ]
    },
    {
     "data": {
      "text/plain": [
       "[<matplotlib.lines.Line2D at 0x7f3da52687b8>]"
      ]
     },
     "execution_count": 11,
     "metadata": {},
     "output_type": "execute_result"
    },
    {
     "data": {
      "image/png": "[encoded data removed]",
      "text/plain": [
       "<Figure size 432x288 with 1 Axes>"
      ]
     },
     "metadata": {
      "needs_background": "light"
     },
     "output_type": "display_data"
    }
   ],
   "source": [
    "# Initialize the training and test history lists\n",
    "train_history = []\n",
    "\n",
    "# Create an instance of the MLP model\n",
    "model = MLP()\n",
    "\n",
    "# Define the loss function and optimizer\n",
    "criterion = nn.MSELoss()\n",
    "optimizer = optim.Adam(model.parameters(), lr=lr)\n",
    "\n",
    "# Define the early stopping utility\n",
    "early_stopping = EarlyStopping(patience=10, verbose=True)\n",
    "\n",
    "# define the file path to save the model state\n",
    "checkpoint_path = 'model.pth'\n",
    "\n",
    "best_val_loss = 1e9\n",
    "# Train the model\n",
    "for epoch in range(num_epochs):\n",
    "    for i, (inputs, targets) in enumerate(train_dataloader):\n",
    "        # Forward pass\n",
    "        outputs = model(inputs.float())\n",
    "        loss = criterion(outputs, targets.float())\n",
    "        train_history.append(loss)\n",
    "        # Backward and optimize\n",
    "        optimizer.zero_grad()\n",
    "        loss.backward()\n",
    "        optimizer.step()\n",
    "\n",
    "    with torch.no_grad():\n",
    "        # Compute the test loss\n",
    "        for inputs, targets in val_dataloader:\n",
    "            outputs = model(inputs.float())\n",
    "            val_loss = criterion(outputs, targets.float())\n",
    "\n",
    "    # Save best model\n",
    "    if val_loss < best_val_loss:\n",
    "        best_val_loss = val_loss\n",
    "        # define the checkpoint dictionary containing the model state and optimizer state\n",
    "        checkpoint = {\n",
    "            'model_state_dict': model.state_dict(),\n",
    "            'optimizer_state_dict': optimizer.state_dict()\n",
    "        }\n",
    "        torch.save(checkpoint, checkpoint_path)\n",
    "        \n",
    "    # Check for early stopping\n",
    "    early_stopping(val_loss, model)\n",
    "    if early_stopping.early_stop:\n",
    "        print(\"Early stopping\")\n",
    "        break\n",
    "\n",
    "    if (epoch+1) % 100 == 0:\n",
    "        print(f\"Epoch [{epoch+1}/{num_epochs}], Train Loss: {loss.item():.4f}, Test Loss: {val_loss.item():.4f}\")\n",
    "\n",
    "plt.plot(train_history)"
   ]
  },
  {
   "cell_type": "code",
   "execution_count": 24,
   "metadata": {},
   "outputs": [
    {
     "name": "stdout",
     "output_type": "stream",
     "text": [
      "Test Loss: 0.0000\n"
     ]
    },
    {
     "data": {
      "text/plain": [
       "[<matplotlib.lines.Line2D at 0x7f3da4660240>]"
      ]
     },
     "execution_count": 24,
     "metadata": {},
     "output_type": "execute_result"
    },
    {
     "data": {
      "image/png": "[encoded data removed]",
      "text/plain": [
       "<Figure size 432x288 with 1 Axes>"
      ]
     },
     "metadata": {
      "needs_background": "light"
     },
     "output_type": "display_data"
    }
   ],
   "source": [
    "test_history = []\n",
    "\n",
    "# load the checkpoint from a file\n",
    "checkpoint = torch.load(checkpoint_path)\n",
    "# load the state of the model and optimizer from the checkpoint\n",
    "model.load_state_dict(checkpoint['model_state_dict'])\n",
    "optimizer.load_state_dict(checkpoint['optimizer_state_dict'])\n",
    "\n",
    "err = []\n",
    "# Test the trained model\n",
    "with torch.no_grad():\n",
    "    for inputs, targets in test_dataloader:\n",
    "        outputs = model(inputs.float())\n",
    "        loss = criterion(outputs, targets.float())\n",
    "        test_history.append(loss)\n",
    "\n",
    "    print(f\"Test Loss: {loss.item():.4f}\")\n",
    "\n",
    "plt.plot(test_history)"
   ]
  }
 ],
 "metadata": {
  "kernelspec": {
   "display_name": "Python 3",
   "language": "python",
   "name": "python3"
  },
  "language_info": {
   "codemirror_mode": {
    "name": "ipython",
    "version": 3
   },
   "file_extension": ".py",
   "mimetype": "text/x-python",
   "name": "python",
   "nbconvert_exporter": "python",
   "pygments_lexer": "ipython3",
   "version": "3.6.5"
  },
  "orig_nbformat": 4
 },
 "nbformat": 4,
 "nbformat_minor": 2
}
