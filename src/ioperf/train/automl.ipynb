{
 "cells": [
  {
   "cell_type": "code",
   "execution_count": 9,
   "metadata": {
    "pycharm": {
     "name": "#%%\n"
    }
   },
   "outputs": [
    {
     "name": "stdout",
     "output_type": "stream",
     "text": [
      "Checking whether there is an H2O instance running at http://localhost:54321. connected.\n"
     ]
    },
    {
     "data": {
      "text/html": [
       "\n",
       "<style>\n",
       "\n",
       "#h2o-table-2.h2o-container {\n",
       "  overflow-x: auto;\n",
       "}\n",
       "#h2o-table-2 .h2o-table {\n",
       "  /* width: 100%; */\n",
       "  margin-top: 1em;\n",
       "  margin-bottom: 1em;\n",
       "}\n",
       "#h2o-table-2 .h2o-table caption {\n",
       "  white-space: nowrap;\n",
       "  caption-side: top;\n",
       "  text-align: left;\n",
       "  /* margin-left: 1em; */\n",
       "  margin: 0;\n",
       "  font-size: larger;\n",
       "}\n",
       "#h2o-table-2 .h2o-table thead {\n",
       "  white-space: nowrap; \n",
       "  position: sticky;\n",
       "  top: 0;\n",
       "  box-shadow: 0 -1px inset;\n",
       "}\n",
       "#h2o-table-2 .h2o-table tbody {\n",
       "  overflow: auto;\n",
       "}\n",
       "#h2o-table-2 .h2o-table th,\n",
       "#h2o-table-2 .h2o-table td {\n",
       "  text-align: right;\n",
       "  /* border: 1px solid; */\n",
       "}\n",
       "#h2o-table-2 .h2o-table tr:nth-child(even) {\n",
       "  /* background: #F5F5F5 */\n",
       "}\n",
       "\n",
       "</style>      \n",
       "<div id=\"h2o-table-2\" class=\"h2o-container\">\n",
       "  <table class=\"h2o-table\">\n",
       "    <caption></caption>\n",
       "    <thead></thead>\n",
       "    <tbody><tr><td>H2O_cluster_uptime:</td>\n",
       "<td>30 secs</td></tr>\n",
       "<tr><td>H2O_cluster_timezone:</td>\n",
       "<td>Etc/UTC</td></tr>\n",
       "<tr><td>H2O_data_parsing_timezone:</td>\n",
       "<td>UTC</td></tr>\n",
       "<tr><td>H2O_cluster_version:</td>\n",
       "<td>3.40.0.4</td></tr>\n",
       "<tr><td>H2O_cluster_version_age:</td>\n",
       "<td>1 month and 16 days</td></tr>\n",
       "<tr><td>H2O_cluster_name:</td>\n",
       "<td>H2O_from_python_cc_fqy4uj</td></tr>\n",
       "<tr><td>H2O_cluster_total_nodes:</td>\n",
       "<td>1</td></tr>\n",
       "<tr><td>H2O_cluster_free_memory:</td>\n",
       "<td>29.96 Gb</td></tr>\n",
       "<tr><td>H2O_cluster_total_cores:</td>\n",
       "<td>48</td></tr>\n",
       "<tr><td>H2O_cluster_allowed_cores:</td>\n",
       "<td>48</td></tr>\n",
       "<tr><td>H2O_cluster_status:</td>\n",
       "<td>locked, healthy</td></tr>\n",
       "<tr><td>H2O_connection_url:</td>\n",
       "<td>http://localhost:54321</td></tr>\n",
       "<tr><td>H2O_connection_proxy:</td>\n",
       "<td>{\"http\": null, \"https\": null}</td></tr>\n",
       "<tr><td>H2O_internal_security:</td>\n",
       "<td>False</td></tr>\n",
       "<tr><td>Python_version:</td>\n",
       "<td>3.8.10 final</td></tr></tbody>\n",
       "  </table>\n",
       "</div>\n"
      ],
      "text/plain": [
       "--------------------------  -----------------------------\n",
       "H2O_cluster_uptime:         30 secs\n",
       "H2O_cluster_timezone:       Etc/UTC\n",
       "H2O_data_parsing_timezone:  UTC\n",
       "H2O_cluster_version:        3.40.0.4\n",
       "H2O_cluster_version_age:    1 month and 16 days\n",
       "H2O_cluster_name:           H2O_from_python_cc_fqy4uj\n",
       "H2O_cluster_total_nodes:    1\n",
       "H2O_cluster_free_memory:    29.96 Gb\n",
       "H2O_cluster_total_cores:    48\n",
       "H2O_cluster_allowed_cores:  48\n",
       "H2O_cluster_status:         locked, healthy\n",
       "H2O_connection_url:         http://localhost:54321\n",
       "H2O_connection_proxy:       {\"http\": null, \"https\": null}\n",
       "H2O_internal_security:      False\n",
       "Python_version:             3.8.10 final\n",
       "--------------------------  -----------------------------"
      ]
     },
     "metadata": {},
     "output_type": "display_data"
    },
    {
     "name": "stdout",
     "output_type": "stream",
     "text": [
      "Parse progress: |████████████████████████████████████████████████████████████████| (done) 100%\n"
     ]
    }
   ],
   "source": [
    "import h2o\n",
    "from h2o.automl import H2OAutoML\n",
    "import numpy as np\n",
    "import pandas as pd\n",
    "import numpy as np\n",
    "import matplotlib.pyplot as plt\n",
    "import seaborn as sns\n",
    "\n",
    "# initialize the H2O cluster\n",
    "h2o.init()\n",
    "\n",
    "# load the dataset into H2O\n",
    "data = pd.read_csv('../data/ioperf.csv')\n",
    "data['bandwidth'] /= 1000\n",
    "data['total_size'] = np.log2(data['total_size'])\n",
    "data['block_size'] = np.log2(data['block_size'])\n",
    "data = h2o.H2OFrame(data)"
   ]
  },
  {
   "cell_type": "code",
   "execution_count": 10,
   "metadata": {},
   "outputs": [],
   "source": [
    "data['total_size'] /= 1024**3\n",
    "data['block_size'] /= 1024"
   ]
  },
  {
   "cell_type": "code",
   "execution_count": 11,
   "metadata": {},
   "outputs": [],
   "source": [
    "# specify the target variable and the input features\n",
    "y = 'latency'\n",
    "X = data.columns.remove(y)\n",
    "\n",
    "# split the dataset into training and testing subsets\n",
    "train, test = data.split_frame(ratios=[0.8], seed=42)"
   ]
  },
  {
   "cell_type": "code",
   "execution_count": 12,
   "metadata": {},
   "outputs": [
    {
     "name": "stdout",
     "output_type": "stream",
     "text": [
      "AutoML progress: |"
     ]
    },
    {
     "name": "stdout",
     "output_type": "stream",
     "text": [
      "███████████████████████████████████████████████████████████████| (done) 100%\n",
      "Best Model: xgboost\n"
     ]
    }
   ],
   "source": [
    "# initialize the AutoML model and specify the maximum time and number of models to try\n",
    "automl = H2OAutoML(max_runtime_secs=3600, max_models=10, seed=42)\n",
    "\n",
    "# train the AutoML model\n",
    "automl.train(x=X, y=y, training_frame=train)\n",
    "\n",
    "# get the leaderboard and performance of the model\n",
    "leaderboard = automl.leaderboard\n",
    "\n",
    "# save the best model based on leaderboard rank\n",
    "model_path = h2o.save_model(automl.leader, path='../models/h2o', force=True)\n",
    "\n",
    "# get the algorithm used for the leader model\n",
    "leader_algo = automl.leader.algo\n",
    "print(f\"Best Model: {leader_algo}\")"
   ]
  },
  {
   "cell_type": "code",
   "execution_count": 13,
   "metadata": {
    "pycharm": {
     "name": "#%%\n"
    }
   },
   "outputs": [
    {
     "name": "stdout",
     "output_type": "stream",
     "text": [
      "model_id                                                   rmse      mse      mae       rmsle    mean_residual_deviance\n",
      "XGBoost_2_AutoML_2_20230614_30022                       3.17955  10.1096  1.16348  nan                          10.1096\n",
      "XGBoost_3_AutoML_2_20230614_30022                       3.23354  10.4558  1.1797   nan                          10.4558\n",
      "StackedEnsemble_BestOfFamily_1_AutoML_2_20230614_30022  3.29197  10.8371  1.21558  nan                          10.8371\n",
      "StackedEnsemble_AllModels_1_AutoML_2_20230614_30022     3.30712  10.937   1.16207  nan                          10.937\n",
      "XGBoost_1_AutoML_2_20230614_30022                       3.37446  11.387   1.47851  nan                          11.387\n",
      "GBM_2_AutoML_2_20230614_30022                           3.59307  12.9101  1.4905   nan                          12.9101\n",
      "GBM_3_AutoML_2_20230614_30022                           3.59714  12.9394  1.40196  nan                          12.9394\n",
      "GBM_4_AutoML_2_20230614_30022                           3.6584   13.3839  1.47605  nan                          13.3839\n",
      "DRF_1_AutoML_2_20230614_30022                           6.15301  37.8596  3.01479    0.336225                   37.8596\n",
      "XRT_1_AutoML_2_20230614_30022                           9.23659  85.3145  4.88595    0.641511                   85.3145\n",
      "[12 rows x 6 columns]\n",
      "\n",
      "XGBoost_2_AutoML_2_20230614_30022 ModelMetricsRegression: xgboost\n",
      "** Reported on test data. **\n",
      "\n",
      "MSE: 5.771417382164873\n",
      "RMSE: 2.402377443734617\n",
      "MAE: 1.086723843216896\n",
      "RMSLE: NaN\n",
      "Mean Residual Deviance: 5.771417382164873\n",
      "XGBoost_3_AutoML_2_20230614_30022 ModelMetricsRegression: xgboost\n",
      "** Reported on test data. **\n",
      "\n",
      "MSE: 6.328085891098283\n",
      "RMSE: 2.5155687013274517\n",
      "MAE: 1.112739449987809\n",
      "RMSLE: NaN\n",
      "Mean Residual Deviance: 6.328085891098283\n",
      "StackedEnsemble_BestOfFamily_1_AutoML_2_20230614_30022 ModelMetricsRegressionGLM: stackedensemble\n",
      "** Reported on test data. **\n",
      "\n",
      "MSE: 5.516269948790056\n",
      "RMSE: 2.348674083135005\n",
      "MAE: 1.0718766985093962\n",
      "RMSLE: NaN\n",
      "Mean Residual Deviance: 5.516269948790056\n",
      "R^2: 0.9559220703932214\n",
      "Null degrees of freedom: 119\n",
      "Residual degrees of freedom: 116\n",
      "Null deviance: 15327.89943465494\n",
      "Residual deviance: 661.9523938548067\n",
      "AIC: 555.4694757246929\n",
      "StackedEnsemble_AllModels_1_AutoML_2_20230614_30022 ModelMetricsRegressionGLM: stackedensemble\n",
      "** Reported on test data. **\n",
      "\n",
      "MSE: 5.225205041865923\n",
      "RMSE: 2.2858707404107355\n",
      "MAE: 1.0304522235704099\n",
      "RMSLE: NaN\n",
      "Mean Residual Deviance: 5.225205041865923\n",
      "R^2: 0.9582478337437296\n",
      "Null degrees of freedom: 119\n",
      "Residual degrees of freedom: 116\n",
      "Null deviance: 15327.89943465494\n",
      "Residual deviance: 627.0246050239108\n",
      "AIC: 548.9645327143159\n",
      "XGBoost_1_AutoML_2_20230614_30022 ModelMetricsRegression: xgboost\n",
      "** Reported on test data. **\n",
      "\n",
      "MSE: 5.650687604283703\n",
      "RMSE: 2.3771174990487327\n",
      "MAE: 1.3247946801284949\n",
      "RMSLE: NaN\n",
      "Mean Residual Deviance: 5.650687604283703\n",
      "GBM_2_AutoML_2_20230614_30022 ModelMetricsRegression: gbm\n",
      "** Reported on test data. **\n",
      "\n",
      "MSE: 5.2735301822931255\n",
      "RMSE: 2.296416813710683\n",
      "MAE: 1.0850517744565196\n",
      "RMSLE: NaN\n",
      "Mean Residual Deviance: 5.2735301822931255\n",
      "GBM_3_AutoML_2_20230614_30022 ModelMetricsRegression: gbm\n",
      "** Reported on test data. **\n",
      "\n",
      "MSE: 5.551024219703533\n",
      "RMSE: 2.3560611663756807\n",
      "MAE: 1.0948999790510343\n",
      "RMSLE: NaN\n",
      "Mean Residual Deviance: 5.551024219703533\n",
      "GBM_4_AutoML_2_20230614_30022 ModelMetricsRegression: gbm\n",
      "** Reported on test data. **\n",
      "\n",
      "MSE: 5.156128541238834\n",
      "RMSE: 2.2707110210766217\n",
      "MAE: 1.0527752937453194\n",
      "RMSLE: NaN\n",
      "Mean Residual Deviance: 5.156128541238834\n",
      "DRF_1_AutoML_2_20230614_30022 ModelMetricsRegression: drf\n",
      "** Reported on test data. **\n",
      "\n",
      "MSE: 16.340332150497897\n",
      "RMSE: 4.042317670656018\n",
      "MAE: 2.1653783188640388\n",
      "RMSLE: 0.3195812958686951\n",
      "Mean Residual Deviance: 16.340332150497897\n",
      "XRT_1_AutoML_2_20230614_30022 ModelMetricsRegression: drf\n",
      "** Reported on test data. **\n",
      "\n",
      "MSE: 39.25884878588944\n",
      "RMSE: 6.265688213268311\n",
      "MAE: 3.850962409089007\n",
      "RMSLE: 0.6420150320743506\n",
      "Mean Residual Deviance: 39.25884878588944\n",
      "GLM_1_AutoML_2_20230614_30022 ModelMetricsRegressionGLM: glm\n",
      "** Reported on test data. **\n",
      "\n",
      "MSE: 77.54275389244594\n",
      "RMSE: 8.805836353944237\n",
      "MAE: 6.705033893910823\n",
      "RMSLE: NaN\n",
      "Mean Residual Deviance: 77.54275389244594\n",
      "R^2: 0.3803921709203735\n",
      "Null degrees of freedom: 119\n",
      "Residual degrees of freedom: 115\n",
      "Null deviance: 15327.89943465494\n",
      "Residual deviance: 9305.130467093513\n",
      "AIC: 874.6447816544181\n",
      "GBM_1_AutoML_2_20230614_30022 ModelMetricsRegression: gbm\n",
      "** Reported on test data. **\n",
      "\n",
      "MSE: 64.8523719394084\n",
      "RMSE: 8.053097040232931\n",
      "MAE: 5.006127909725594\n",
      "RMSLE: NaN\n",
      "Mean Residual Deviance: 64.8523719394084\n"
     ]
    }
   ],
   "source": [
    "# print the leaderboard\n",
    "print(leaderboard)\n",
    "\n",
    "# get the performance of each model\n",
    "model_ids = leaderboard['model_id'].as_data_frame()['model_id'].tolist()\n",
    "for model_id in model_ids:\n",
    "    model = h2o.get_model(model_id)\n",
    "    performance = model.model_performance(test)\n",
    "    print(model_id, performance)"
   ]
  },
  {
   "cell_type": "code",
   "execution_count": 14,
   "metadata": {
    "pycharm": {
     "name": "#%%\n"
    }
   },
   "outputs": [
    {
     "name": "stdout",
     "output_type": "stream",
     "text": [
      "xgboost prediction progress: |███████████████████████████████████████████████████| (done) 100%\n"
     ]
    },
    {
     "data": {
      "text/html": [
       "<pre style='margin: 1em 0 1em 0;'>ModelMetricsRegression: xgboost\n",
       "** Reported on test data. **\n",
       "\n",
       "MSE: 5.771417382164873\n",
       "RMSE: 2.402377443734617\n",
       "MAE: 1.086723843216896\n",
       "RMSLE: NaN\n",
       "Mean Residual Deviance: 5.771417382164873</pre>"
      ],
      "text/plain": [
       "ModelMetricsRegression: xgboost\n",
       "** Reported on test data. **\n",
       "\n",
       "MSE: 5.771417382164873\n",
       "RMSE: 2.402377443734617\n",
       "MAE: 1.086723843216896\n",
       "RMSLE: NaN\n",
       "Mean Residual Deviance: 5.771417382164873"
      ]
     },
     "execution_count": 14,
     "metadata": {},
     "output_type": "execute_result"
    }
   ],
   "source": [
    "best_model = h2o.load_model(model_path)\n",
    "\n",
    "# generate predictions on the test set\n",
    "predictions = best_model.predict(test)\n",
    "\n",
    "# evaluate the performance of the model\n",
    "performance = best_model.model_performance(test)\n",
    "performance"
   ]
  },
  {
   "cell_type": "code",
   "execution_count": 15,
   "metadata": {
    "pycharm": {
     "name": "#%%\n"
    }
   },
   "outputs": [
    {
     "name": "stderr",
     "output_type": "stream",
     "text": [
      "/tmp/ipykernel_1998999/2073451384.py:4: UserWarning: \n",
      "\n",
      "`distplot` is a deprecated function and will be removed in seaborn v0.14.0.\n",
      "\n",
      "Please adapt your code to use either `displot` (a figure-level function with\n",
      "similar flexibility) or `histplot` (an axes-level function for histograms).\n",
      "\n",
      "For a guide to updating your code to use the new functions, please see\n",
      "https://gist.github.com/mwaskom/de44147ed2974457ad6372750bbe5751\n",
      "\n",
      "  sns.distplot(pe, hist = True, kde = True, bins=100,\n"
     ]
    },
    {
     "data": {
      "image/png": "[encoded data removed]",
      "text/plain": [
       "<Figure size 640x480 with 1 Axes>"
      ]
     },
     "metadata": {},
     "output_type": "display_data"
    }
   ],
   "source": [
    "pe = abs((predictions - test[\"latency\"])/test['latency']) * 100\n",
    "pe = np.ravel(pe.as_data_frame().values)\n",
    "\n",
    "sns.distplot(pe, hist = True, kde = True, bins=100,\n",
    "             hist_kws={'cumulative':True,'density':True, 'alpha':0.3},\n",
    "             kde_kws={'cumulative':True,'color': 'red', 'lw': 2})\n",
    "\n",
    "sns.set_style('whitegrid')\n",
    "plt.show()"
   ]
  },
  {
   "cell_type": "code",
   "execution_count": 16,
   "metadata": {
    "pycharm": {
     "name": "#%%\n"
    }
   },
   "outputs": [],
   "source": [
    "# shutdown the H2O cluster\n",
    "# h2o.shutdown()"
   ]
  }
 ],
 "metadata": {
  "kernelspec": {
   "display_name": "Python 3",
   "language": "python",
   "name": "python3"
  },
  "language_info": {
   "codemirror_mode": {
    "name": "ipython",
    "version": 3
   },
   "file_extension": ".py",
   "mimetype": "text/x-python",
   "name": "python",
   "nbconvert_exporter": "python",
   "pygments_lexer": "ipython3",
   "version": "3.8.10"
  },
  "orig_nbformat": 4
 },
 "nbformat": 4,
 "nbformat_minor": 2
}
